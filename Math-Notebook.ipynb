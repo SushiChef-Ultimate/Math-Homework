{
 "cells": [
  {
   "cell_type": "markdown",
   "id": "13c36781",
   "metadata": {},
   "source": [
    "HW 2"
   ]
  },
  {
   "cell_type": "code",
   "execution_count": 32,
   "id": "7cdc7344",
   "metadata": {},
   "outputs": [],
   "source": [
    "import math"
   ]
  },
  {
   "cell_type": "code",
   "execution_count": 37,
   "id": "068ec849",
   "metadata": {},
   "outputs": [],
   "source": [
    "# Sample List\n",
    "#sl = [590,815,575,608,350,985,408,540,555,679] <- #33\n",
    "#sl = [120,130,140,130,115,120,110,130,135] <- #38\n",
    "#sl = [16.4,15.9,14.6,15.2,15.8] <- #45\n",
    "sl = [87,103,130,160,180,195,132,145,211,105,145,153,152,138,87,99,93,119,129]"
   ]
  },
  {
   "cell_type": "code",
   "execution_count": 26,
   "id": "cf46a4a9",
   "metadata": {},
   "outputs": [
    {
     "name": "stdout",
     "output_type": "stream",
     "text": [
      "115.58\n"
     ]
    }
   ],
   "source": [
    "# Mean Calculation\n",
    "top = 0.0\n",
    "bottom = len(sl)\n",
    "\n",
    "for x in range(len(sl)):\n",
    "    top += sl[x]\n",
    "\n",
    "print(top/bottom)"
   ]
  },
  {
   "cell_type": "code",
   "execution_count": 24,
   "id": "d2e4da57",
   "metadata": {},
   "outputs": [
    {
     "name": "stdout",
     "output_type": "stream",
     "text": [
      "130\n"
     ]
    }
   ],
   "source": [
    "# Median Calculation\n",
    "sl.sort()\n",
    "\n",
    "if len(sl)%2 == 1:\n",
    "    index = int((len(sl)-1)/2)\n",
    "    print(sl[index])\n",
    "else:\n",
    "    index1 = int(len(sl)/2)\n",
    "    index2 = int((len(sl)-2)/2)\n",
    "    print((sl[index1]+sl[index2])/2)"
   ]
  },
  {
   "cell_type": "code",
   "execution_count": 28,
   "id": "e3d0dfb3",
   "metadata": {},
   "outputs": [
    {
     "name": "stdout",
     "output_type": "stream",
     "text": [
      "0.8200000000000074\n",
      "0.3200000000000074\n",
      "-0.980000000000004\n",
      "-0.37999999999999545\n",
      "0.21999999999999886\n"
     ]
    }
   ],
   "source": [
    "# Deviations From Mean\n",
    "top = 0.0\n",
    "bottom = len(sl)\n",
    "\n",
    "for x in range(len(sl)):\n",
    "    top += sl[x]\n",
    "\n",
    "d = top/bottom\n",
    "\n",
    "for x in range(len(sl)):\n",
    "    print(sl[x] - d)"
   ]
  },
  {
   "cell_type": "code",
   "execution_count": 39,
   "id": "0b964606",
   "metadata": {},
   "outputs": [
    {
     "name": "stdout",
     "output_type": "stream",
     "text": [
      "1264.7660818713455\n"
     ]
    }
   ],
   "source": [
    "# Sample Variance\n",
    "sv = 0.0\n",
    "\n",
    "top = 0.0\n",
    "bottom = len(sl)\n",
    "\n",
    "for x in range(len(sl)):\n",
    "    top += sl[x]\n",
    "\n",
    "d = top/bottom\n",
    "\n",
    "for x in range(len(sl)):\n",
    "    sv += (sl[x] - d)**2\n",
    "\n",
    "print(sv/(len(sl)-1))"
   ]
  },
  {
   "cell_type": "code",
   "execution_count": 34,
   "id": "45317885",
   "metadata": {},
   "outputs": [
    {
     "name": "stdout",
     "output_type": "stream",
     "text": [
      "1.9279999999998836\n"
     ]
    }
   ],
   "source": [
    "# Sxx Formula (computational numerator)\n",
    "part1 = 0.0\n",
    "part2 = 0.0\n",
    "\n",
    "for x in range(len(sl)):\n",
    "    part1 += sl[x]\n",
    "    part2 += (sl[x])**2\n",
    "\n",
    "print(part2 - ((part1**2)/len(sl)))"
   ]
  },
  {
   "cell_type": "code",
   "execution_count": 40,
   "id": "99d7013d",
   "metadata": {},
   "outputs": [
    {
     "name": "stdout",
     "output_type": "stream",
     "text": [
      "35.56354990536442\n"
     ]
    }
   ],
   "source": [
    "# Sample Standard Deviation\n",
    "sv = 0.0\n",
    "\n",
    "top = 0.0\n",
    "bottom = len(sl)\n",
    "\n",
    "for x in range(len(sl)):\n",
    "    top += sl[x]\n",
    "\n",
    "d = top/bottom\n",
    "\n",
    "for x in range(len(sl)):\n",
    "    sv += (sl[x] - d)**2\n",
    "\n",
    "print(math.sqrt(sv/(len(sl)-1)))"
   ]
  }
 ],
 "metadata": {
  "kernelspec": {
   "display_name": "base",
   "language": "python",
   "name": "python3"
  },
  "language_info": {
   "codemirror_mode": {
    "name": "ipython",
    "version": 3
   },
   "file_extension": ".py",
   "mimetype": "text/x-python",
   "name": "python",
   "nbconvert_exporter": "python",
   "pygments_lexer": "ipython3",
   "version": "3.13.5"
  }
 },
 "nbformat": 4,
 "nbformat_minor": 5
}
